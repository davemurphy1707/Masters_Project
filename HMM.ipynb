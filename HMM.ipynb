{
 "cells": [
  {
   "cell_type": "code",
   "execution_count": 2,
   "id": "26df9e57-e2d1-4c90-83df-cef4b83b1660",
   "metadata": {},
   "outputs": [],
   "source": [
    "import numpy as np\n",
    "from hmmlearn import hmm\n",
    "import pandas as pd\n",
    "from sklearn.preprocessing import LabelEncoder\n",
    "import itertools"
   ]
  },
  {
   "cell_type": "code",
   "execution_count": 3,
   "id": "a5b2708c-001b-499f-87a7-7d90508fdf87",
   "metadata": {},
   "outputs": [],
   "source": [
    "data = pd.read_csv(\"Discrete_Fixed.csv\")"
   ]
  },
  {
   "cell_type": "code",
   "execution_count": 4,
   "id": "89853213-6029-4845-8c10-22f34eb070ce",
   "metadata": {},
   "outputs": [
    {
     "data": {
      "text/html": [
       "<div>\n",
       "<style scoped>\n",
       "    .dataframe tbody tr th:only-of-type {\n",
       "        vertical-align: middle;\n",
       "    }\n",
       "\n",
       "    .dataframe tbody tr th {\n",
       "        vertical-align: top;\n",
       "    }\n",
       "\n",
       "    .dataframe thead th {\n",
       "        text-align: right;\n",
       "    }\n",
       "</style>\n",
       "<table border=\"1\" class=\"dataframe\">\n",
       "  <thead>\n",
       "    <tr style=\"text-align: right;\">\n",
       "      <th></th>\n",
       "      <th>kmer_1</th>\n",
       "      <th>kmer_2</th>\n",
       "      <th>kmer_3</th>\n",
       "      <th>kmer_4</th>\n",
       "      <th>kmer_5</th>\n",
       "      <th>kmer_6</th>\n",
       "      <th>kmer_7</th>\n",
       "      <th>kmer_8</th>\n",
       "      <th>kmer_9</th>\n",
       "      <th>kmer_10</th>\n",
       "      <th>...</th>\n",
       "      <th>kmer_9990</th>\n",
       "      <th>kmer_9991</th>\n",
       "      <th>kmer_9992</th>\n",
       "      <th>kmer_9993</th>\n",
       "      <th>kmer_9994</th>\n",
       "      <th>kmer_9995</th>\n",
       "      <th>kmer_9996</th>\n",
       "      <th>kmer_9997</th>\n",
       "      <th>kmer_9998</th>\n",
       "      <th>kmer_9999</th>\n",
       "    </tr>\n",
       "  </thead>\n",
       "  <tbody>\n",
       "    <tr>\n",
       "      <th>0</th>\n",
       "      <td>nn</td>\n",
       "      <td>nn</td>\n",
       "      <td>nn</td>\n",
       "      <td>nn</td>\n",
       "      <td>nn</td>\n",
       "      <td>nn</td>\n",
       "      <td>nn</td>\n",
       "      <td>nn</td>\n",
       "      <td>nn</td>\n",
       "      <td>nn</td>\n",
       "      <td>...</td>\n",
       "      <td>nn</td>\n",
       "      <td>nn</td>\n",
       "      <td>nn</td>\n",
       "      <td>nn</td>\n",
       "      <td>nn</td>\n",
       "      <td>nn</td>\n",
       "      <td>nn</td>\n",
       "      <td>nn</td>\n",
       "      <td>nn</td>\n",
       "      <td>nn</td>\n",
       "    </tr>\n",
       "    <tr>\n",
       "      <th>1</th>\n",
       "      <td>nn</td>\n",
       "      <td>nn</td>\n",
       "      <td>nn</td>\n",
       "      <td>nn</td>\n",
       "      <td>nn</td>\n",
       "      <td>nn</td>\n",
       "      <td>nn</td>\n",
       "      <td>nn</td>\n",
       "      <td>nn</td>\n",
       "      <td>nn</td>\n",
       "      <td>...</td>\n",
       "      <td>nn</td>\n",
       "      <td>nn</td>\n",
       "      <td>nn</td>\n",
       "      <td>nn</td>\n",
       "      <td>nn</td>\n",
       "      <td>nn</td>\n",
       "      <td>nn</td>\n",
       "      <td>nn</td>\n",
       "      <td>nn</td>\n",
       "      <td>nn</td>\n",
       "    </tr>\n",
       "    <tr>\n",
       "      <th>2</th>\n",
       "      <td>nn</td>\n",
       "      <td>nn</td>\n",
       "      <td>nn</td>\n",
       "      <td>nn</td>\n",
       "      <td>nn</td>\n",
       "      <td>nn</td>\n",
       "      <td>nn</td>\n",
       "      <td>nn</td>\n",
       "      <td>nn</td>\n",
       "      <td>nn</td>\n",
       "      <td>...</td>\n",
       "      <td>nn</td>\n",
       "      <td>nn</td>\n",
       "      <td>nn</td>\n",
       "      <td>nn</td>\n",
       "      <td>nn</td>\n",
       "      <td>nn</td>\n",
       "      <td>nn</td>\n",
       "      <td>nn</td>\n",
       "      <td>nn</td>\n",
       "      <td>nn</td>\n",
       "    </tr>\n",
       "    <tr>\n",
       "      <th>3</th>\n",
       "      <td>nn</td>\n",
       "      <td>nn</td>\n",
       "      <td>nn</td>\n",
       "      <td>nn</td>\n",
       "      <td>nn</td>\n",
       "      <td>nn</td>\n",
       "      <td>nn</td>\n",
       "      <td>nn</td>\n",
       "      <td>nn</td>\n",
       "      <td>nn</td>\n",
       "      <td>...</td>\n",
       "      <td>nn</td>\n",
       "      <td>nn</td>\n",
       "      <td>nn</td>\n",
       "      <td>nn</td>\n",
       "      <td>nn</td>\n",
       "      <td>nn</td>\n",
       "      <td>nn</td>\n",
       "      <td>nn</td>\n",
       "      <td>nn</td>\n",
       "      <td>nn</td>\n",
       "    </tr>\n",
       "    <tr>\n",
       "      <th>4</th>\n",
       "      <td>nn</td>\n",
       "      <td>nn</td>\n",
       "      <td>nn</td>\n",
       "      <td>nn</td>\n",
       "      <td>nn</td>\n",
       "      <td>nn</td>\n",
       "      <td>nn</td>\n",
       "      <td>nn</td>\n",
       "      <td>nn</td>\n",
       "      <td>nn</td>\n",
       "      <td>...</td>\n",
       "      <td>nn</td>\n",
       "      <td>nn</td>\n",
       "      <td>nn</td>\n",
       "      <td>nn</td>\n",
       "      <td>nn</td>\n",
       "      <td>nn</td>\n",
       "      <td>nn</td>\n",
       "      <td>nn</td>\n",
       "      <td>nn</td>\n",
       "      <td>nn</td>\n",
       "    </tr>\n",
       "  </tbody>\n",
       "</table>\n",
       "<p>5 rows × 9999 columns</p>\n",
       "</div>"
      ],
      "text/plain": [
       "  kmer_1 kmer_2 kmer_3 kmer_4 kmer_5 kmer_6 kmer_7 kmer_8 kmer_9 kmer_10  ...  \\\n",
       "0     nn     nn     nn     nn     nn     nn     nn     nn     nn      nn  ...   \n",
       "1     nn     nn     nn     nn     nn     nn     nn     nn     nn      nn  ...   \n",
       "2     nn     nn     nn     nn     nn     nn     nn     nn     nn      nn  ...   \n",
       "3     nn     nn     nn     nn     nn     nn     nn     nn     nn      nn  ...   \n",
       "4     nn     nn     nn     nn     nn     nn     nn     nn     nn      nn  ...   \n",
       "\n",
       "  kmer_9990 kmer_9991 kmer_9992 kmer_9993 kmer_9994 kmer_9995 kmer_9996  \\\n",
       "0        nn        nn        nn        nn        nn        nn        nn   \n",
       "1        nn        nn        nn        nn        nn        nn        nn   \n",
       "2        nn        nn        nn        nn        nn        nn        nn   \n",
       "3        nn        nn        nn        nn        nn        nn        nn   \n",
       "4        nn        nn        nn        nn        nn        nn        nn   \n",
       "\n",
       "  kmer_9997 kmer_9998 kmer_9999  \n",
       "0        nn        nn        nn  \n",
       "1        nn        nn        nn  \n",
       "2        nn        nn        nn  \n",
       "3        nn        nn        nn  \n",
       "4        nn        nn        nn  \n",
       "\n",
       "[5 rows x 9999 columns]"
      ]
     },
     "execution_count": 4,
     "metadata": {},
     "output_type": "execute_result"
    }
   ],
   "source": [
    "data.head()"
   ]
  },
  {
   "cell_type": "code",
   "execution_count": 5,
   "id": "a10b7560-b36e-469e-a9f9-49f2c9f4cbd4",
   "metadata": {},
   "outputs": [],
   "source": [
    "#type(data)\n",
    "X = []"
   ]
  },
  {
   "cell_type": "code",
   "execution_count": 6,
   "id": "d1a1198d-742c-448b-ae1a-ee74b5edfab2",
   "metadata": {},
   "outputs": [],
   "source": [
    "for i, row in data.iterrows():\n",
    "    newrow = pd.Series.to_numpy(row)\n",
    "    X.append(newrow)\n",
    "# this chunk converts the data frame into a list of numpy arrays for hmmleanr"
   ]
  },
  {
   "cell_type": "code",
   "execution_count": 7,
   "id": "72cd47f9-6e35-46a7-96a7-814820ad3250",
   "metadata": {},
   "outputs": [
    {
     "data": {
      "text/plain": [
       "numpy.ndarray"
      ]
     },
     "execution_count": 7,
     "metadata": {},
     "output_type": "execute_result"
    }
   ],
   "source": [
    "type(X[100])"
   ]
  },
  {
   "cell_type": "code",
   "execution_count": 8,
   "id": "3fad7ec4-c554-4fb2-a318-1f0b6d5240a1",
   "metadata": {},
   "outputs": [],
   "source": [
    "#for item in X:\n",
    "    #print(type(item))"
   ]
  },
  {
   "cell_type": "code",
   "execution_count": 9,
   "id": "18bf475c-afbf-4418-a0fb-3015231dca8d",
   "metadata": {},
   "outputs": [],
   "source": [
    "converted = [np.array(i).tolist() for i in X]\n"
   ]
  },
  {
   "cell_type": "code",
   "execution_count": 10,
   "id": "7c25ec96-7737-46e8-81c1-843ed7d0ee4f",
   "metadata": {},
   "outputs": [
    {
     "data": {
      "text/plain": [
       "list"
      ]
     },
     "execution_count": 10,
     "metadata": {},
     "output_type": "execute_result"
    }
   ],
   "source": [
    "type(converted[100])"
   ]
  },
  {
   "cell_type": "code",
   "execution_count": 11,
   "id": "6ff35482-58af-4a3c-930d-8c84ff26216c",
   "metadata": {},
   "outputs": [
    {
     "name": "stdout",
     "output_type": "stream",
     "text": [
      "All 16 dinucleotides: ['aa', 'ac', 'ag', 'an', 'at', 'ca', 'cc', 'cg', 'cn', 'ct', 'ga', 'gc', 'gg', 'gn', 'gt', 'na', 'nc', 'ng', 'nn', 'nt', 'ta', 'tc', 'tg', 'tn', 'tt']\n",
      "Mapping learned by LabelEncoder:\n",
      "aa → 0\n",
      "ac → 1\n",
      "ag → 2\n",
      "an → 3\n",
      "at → 4\n",
      "ca → 5\n",
      "cc → 6\n",
      "cg → 7\n",
      "cn → 8\n",
      "ct → 9\n",
      "ga → 10\n",
      "gc → 11\n",
      "gg → 12\n",
      "gn → 13\n",
      "gt → 14\n",
      "na → 15\n",
      "nc → 16\n",
      "ng → 17\n",
      "nn → 18\n",
      "nt → 19\n",
      "ta → 20\n",
      "tc → 21\n",
      "tg → 22\n",
      "tn → 23\n",
      "tt → 24\n"
     ]
    }
   ],
   "source": [
    "# Generate all 16 possible dinucleotides\n",
    "bases = ['a', 'c', 'g', 't', 'n']\n",
    "all_possible_dinucleotides = [''.join(p) for p in itertools.product(bases, repeat=2)]\n",
    "\n",
    "# Sort for consistent label encoding\n",
    "unique_dinucleotides = sorted(all_possible_dinucleotides)\n",
    "\n",
    "label_encoder = LabelEncoder()\n",
    "label_encoder.fit(unique_dinucleotides)\n",
    "\n",
    "print(\"All 16 dinucleotides:\", unique_dinucleotides)\n",
    "print(\"Mapping learned by LabelEncoder:\")\n",
    "for k, v in zip(label_encoder.classes_, label_encoder.transform(label_encoder.classes_)):\n",
    "    print(f\"{k} → {v}\")"
   ]
  },
  {
   "cell_type": "code",
   "execution_count": 12,
   "id": "f3775dbc-ad17-468f-8c68-2bd8db90596b",
   "metadata": {},
   "outputs": [
    {
     "name": "stdout",
     "output_type": "stream",
     "text": [
      "Example numerical sequence for the first window: [10  2 10 ... 12 10  2]\n",
      "Lengths of the sequences: [9999, 9999, 9999, 9999, 9999]\n"
     ]
    }
   ],
   "source": [
    "numerical_sequences = []\n",
    "sequence_lengths = []\n",
    "\n",
    "for seq in converted:\n",
    "    numerical_sequence = label_encoder.transform(seq)\n",
    "    numerical_sequences.append(numerical_sequence)\n",
    "    sequence_lengths.append(len(numerical_sequence))\n",
    "\n",
    "print(\"Example numerical sequence for the first window:\", numerical_sequences[555])\n",
    "print(\"Lengths of the sequences:\", sequence_lengths[:5]) # Print first few lengths\n",
    "# this chunk converts the list 'converted' into "
   ]
  },
  {
   "cell_type": "code",
   "execution_count": 13,
   "id": "123a3a74-5d5a-4b01-9f98-41d3bb8b9fbb",
   "metadata": {},
   "outputs": [
    {
     "name": "stdout",
     "output_type": "stream",
     "text": [
      "Shape of all_sequences: (46695330, 1)\n",
      "Shape of sequence_lengths: (4670,)\n"
     ]
    }
   ],
   "source": [
    "all_sequences = np.concatenate(numerical_sequences).reshape(-1, 1)\n",
    "sequence_lengths_np = np.array(sequence_lengths) # Convert to NumPy array (optional but good practice)\n",
    "\n",
    "print(\"Shape of all_sequences:\", all_sequences.shape)\n",
    "print(\"Shape of sequence_lengths:\", sequence_lengths_np.shape)"
   ]
  },
  {
   "cell_type": "code",
   "execution_count": 19,
   "id": "033e2870-78ed-4bb2-8f51-391d5bf5734c",
   "metadata": {},
   "outputs": [],
   "source": [
    "n_components = 2 \n",
    "n_features = len(unique_dinucleotides) # Number of unique dinucleotides\n"
   ]
  },
  {
   "cell_type": "code",
   "execution_count": 21,
   "id": "b2c402d3-619b-4c80-b2c6-3549a7032e0f",
   "metadata": {},
   "outputs": [
    {
     "ename": "KeyError",
     "evalue": "0",
     "output_type": "error",
     "traceback": [
      "\u001b[31m---------------------------------------------------------------------------\u001b[39m",
      "\u001b[31mKeyError\u001b[39m                                  Traceback (most recent call last)",
      "\u001b[36mFile \u001b[39m\u001b[32m~/miniconda3/lib/python3.12/site-packages/pandas/core/indexes/base.py:3805\u001b[39m, in \u001b[36mIndex.get_loc\u001b[39m\u001b[34m(self, key)\u001b[39m\n\u001b[32m   3804\u001b[39m \u001b[38;5;28;01mtry\u001b[39;00m:\n\u001b[32m-> \u001b[39m\u001b[32m3805\u001b[39m     \u001b[38;5;28;01mreturn\u001b[39;00m \u001b[38;5;28;43mself\u001b[39;49m\u001b[43m.\u001b[49m\u001b[43m_engine\u001b[49m\u001b[43m.\u001b[49m\u001b[43mget_loc\u001b[49m\u001b[43m(\u001b[49m\u001b[43mcasted_key\u001b[49m\u001b[43m)\u001b[49m\n\u001b[32m   3806\u001b[39m \u001b[38;5;28;01mexcept\u001b[39;00m \u001b[38;5;167;01mKeyError\u001b[39;00m \u001b[38;5;28;01mas\u001b[39;00m err:\n",
      "\u001b[36mFile \u001b[39m\u001b[32mindex.pyx:167\u001b[39m, in \u001b[36mpandas._libs.index.IndexEngine.get_loc\u001b[39m\u001b[34m()\u001b[39m\n",
      "\u001b[36mFile \u001b[39m\u001b[32mindex.pyx:196\u001b[39m, in \u001b[36mpandas._libs.index.IndexEngine.get_loc\u001b[39m\u001b[34m()\u001b[39m\n",
      "\u001b[36mFile \u001b[39m\u001b[32mpandas/_libs/hashtable_class_helper.pxi:7081\u001b[39m, in \u001b[36mpandas._libs.hashtable.PyObjectHashTable.get_item\u001b[39m\u001b[34m()\u001b[39m\n",
      "\u001b[36mFile \u001b[39m\u001b[32mpandas/_libs/hashtable_class_helper.pxi:7089\u001b[39m, in \u001b[36mpandas._libs.hashtable.PyObjectHashTable.get_item\u001b[39m\u001b[34m()\u001b[39m\n",
      "\u001b[31mKeyError\u001b[39m: 0",
      "\nThe above exception was the direct cause of the following exception:\n",
      "\u001b[31mKeyError\u001b[39m                                  Traceback (most recent call last)",
      "\u001b[36mCell\u001b[39m\u001b[36m \u001b[39m\u001b[32mIn[21]\u001b[39m\u001b[32m, line 2\u001b[39m\n\u001b[32m      1\u001b[39m model = hmm.MultinomialHMM(n_components=n_components,\n\u001b[32m----> \u001b[39m\u001b[32m2\u001b[39m                             n_trials=\u001b[38;5;28mlen\u001b[39m(\u001b[43mdata\u001b[49m\u001b[43m[\u001b[49m\u001b[32;43m0\u001b[39;49m\u001b[43m]\u001b[49m), \u001b[38;5;66;03m# Each observation is a single dinucleotide\u001b[39;00m\n\u001b[32m      3\u001b[39m                             n_iter=\u001b[32m10000\u001b[39m, \u001b[38;5;66;03m# Number of EM iterations\u001b[39;00m\n\u001b[32m      4\u001b[39m                             random_state=\u001b[32m42\u001b[39m,\n\u001b[32m      5\u001b[39m                             init_params=\u001b[33m'\u001b[39m\u001b[33mste\u001b[39m\u001b[33m'\u001b[39m) \u001b[38;5;66;03m# Initialize all parameters\u001b[39;00m\n\u001b[32m      7\u001b[39m model.fit(all_sequences, lengths=sequence_lengths_np)\n\u001b[32m      9\u001b[39m \u001b[38;5;28mprint\u001b[39m(\u001b[33m\"\u001b[39m\u001b[38;5;130;01m\\n\u001b[39;00m\u001b[33mModel trained!\u001b[39m\u001b[33m\"\u001b[39m)\n",
      "\u001b[36mFile \u001b[39m\u001b[32m~/miniconda3/lib/python3.12/site-packages/pandas/core/frame.py:4102\u001b[39m, in \u001b[36mDataFrame.__getitem__\u001b[39m\u001b[34m(self, key)\u001b[39m\n\u001b[32m   4100\u001b[39m \u001b[38;5;28;01mif\u001b[39;00m \u001b[38;5;28mself\u001b[39m.columns.nlevels > \u001b[32m1\u001b[39m:\n\u001b[32m   4101\u001b[39m     \u001b[38;5;28;01mreturn\u001b[39;00m \u001b[38;5;28mself\u001b[39m._getitem_multilevel(key)\n\u001b[32m-> \u001b[39m\u001b[32m4102\u001b[39m indexer = \u001b[38;5;28;43mself\u001b[39;49m\u001b[43m.\u001b[49m\u001b[43mcolumns\u001b[49m\u001b[43m.\u001b[49m\u001b[43mget_loc\u001b[49m\u001b[43m(\u001b[49m\u001b[43mkey\u001b[49m\u001b[43m)\u001b[49m\n\u001b[32m   4103\u001b[39m \u001b[38;5;28;01mif\u001b[39;00m is_integer(indexer):\n\u001b[32m   4104\u001b[39m     indexer = [indexer]\n",
      "\u001b[36mFile \u001b[39m\u001b[32m~/miniconda3/lib/python3.12/site-packages/pandas/core/indexes/base.py:3812\u001b[39m, in \u001b[36mIndex.get_loc\u001b[39m\u001b[34m(self, key)\u001b[39m\n\u001b[32m   3807\u001b[39m     \u001b[38;5;28;01mif\u001b[39;00m \u001b[38;5;28misinstance\u001b[39m(casted_key, \u001b[38;5;28mslice\u001b[39m) \u001b[38;5;129;01mor\u001b[39;00m (\n\u001b[32m   3808\u001b[39m         \u001b[38;5;28misinstance\u001b[39m(casted_key, abc.Iterable)\n\u001b[32m   3809\u001b[39m         \u001b[38;5;129;01mand\u001b[39;00m \u001b[38;5;28many\u001b[39m(\u001b[38;5;28misinstance\u001b[39m(x, \u001b[38;5;28mslice\u001b[39m) \u001b[38;5;28;01mfor\u001b[39;00m x \u001b[38;5;129;01min\u001b[39;00m casted_key)\n\u001b[32m   3810\u001b[39m     ):\n\u001b[32m   3811\u001b[39m         \u001b[38;5;28;01mraise\u001b[39;00m InvalidIndexError(key)\n\u001b[32m-> \u001b[39m\u001b[32m3812\u001b[39m     \u001b[38;5;28;01mraise\u001b[39;00m \u001b[38;5;167;01mKeyError\u001b[39;00m(key) \u001b[38;5;28;01mfrom\u001b[39;00m \u001b[34;01merr\u001b[39;00m\n\u001b[32m   3813\u001b[39m \u001b[38;5;28;01mexcept\u001b[39;00m \u001b[38;5;167;01mTypeError\u001b[39;00m:\n\u001b[32m   3814\u001b[39m     \u001b[38;5;66;03m# If we have a listlike key, _check_indexing_error will raise\u001b[39;00m\n\u001b[32m   3815\u001b[39m     \u001b[38;5;66;03m#  InvalidIndexError. Otherwise we fall through and re-raise\u001b[39;00m\n\u001b[32m   3816\u001b[39m     \u001b[38;5;66;03m#  the TypeError.\u001b[39;00m\n\u001b[32m   3817\u001b[39m     \u001b[38;5;28mself\u001b[39m._check_indexing_error(key)\n",
      "\u001b[31mKeyError\u001b[39m: 0"
     ]
    }
   ],
   "source": [
    "model = hmm.MultinomialHMM(n_components=n_components,\n",
    "                            n_trials=len(data[0]), # Each observation is a single dinucleotide\n",
    "                            n_iter=10000, # Number of EM iterations\n",
    "                            random_state=42,\n",
    "                            init_params='ste') # Initialize all parameters\n",
    "\n",
    "model.fit(all_sequences, lengths=sequence_lengths_np)\n",
    "\n",
    "print(\"\\nModel trained!\")\n",
    "print(\"Transition probabilities:\\n\", model.transmat_)\n",
    "print(\"Emission probabilities:\\n\", model.emissionprob_)\n",
    "print(\"Start probabilities:\\n\", model.startprob_)"
   ]
  },
  {
   "cell_type": "code",
   "execution_count": 15,
   "id": "33192330-bd87-4eb9-bf73-fc01a16c9b18",
   "metadata": {},
   "outputs": [
    {
     "name": "stdout",
     "output_type": "stream",
     "text": [
      "int64\n"
     ]
    }
   ],
   "source": [
    "print(all_sequences.dtype)"
   ]
  },
  {
   "cell_type": "code",
   "execution_count": null,
   "id": "2e686056-048c-414a-9713-0231dd30ea1b",
   "metadata": {},
   "outputs": [],
   "source": []
  },
  {
   "cell_type": "code",
   "execution_count": null,
   "id": "3a268551-a609-4d2b-a1ee-cc80328dbe46",
   "metadata": {},
   "outputs": [],
   "source": []
  },
  {
   "cell_type": "code",
   "execution_count": 90,
   "id": "eca4dde7-46e3-4f86-806e-32a775a77b97",
   "metadata": {},
   "outputs": [
    {
     "name": "stdout",
     "output_type": "stream",
     "text": [
      "(4670, 9999)\n"
     ]
    }
   ],
   "source": [
    "probability_data = data.values \n",
    "print(probability_data.shape)\n",
    "n_symbols = probability_data.shape[1]\n",
    "n_samples = probability_data.shape[0]"
   ]
  },
  {
   "cell_type": "code",
   "execution_count": 42,
   "id": "4e0c41ff-4ced-4e9b-ad68-ae9dc741dde6",
   "metadata": {},
   "outputs": [
    {
     "data": {
      "text/plain": [
       "array(['tc', 'ct', 'ta', ..., 'gc', 'ct', 'tg'],\n",
       "      shape=(9999,), dtype=object)"
      ]
     },
     "execution_count": 42,
     "metadata": {},
     "output_type": "execute_result"
    }
   ],
   "source": [
    "probability_data[777]"
   ]
  },
  {
   "cell_type": "code",
   "execution_count": 43,
   "id": "63262bec-ac5f-4df7-8e4c-5b0f2e8bbece",
   "metadata": {},
   "outputs": [
    {
     "ename": "TypeError",
     "evalue": "'>' not supported between instances of 'str' and 'int'",
     "output_type": "error",
     "traceback": [
      "\u001b[31m---------------------------------------------------------------------------\u001b[39m",
      "\u001b[31mTypeError\u001b[39m                                 Traceback (most recent call last)",
      "\u001b[36mCell\u001b[39m\u001b[36m \u001b[39m\u001b[32mIn[43]\u001b[39m\u001b[32m, line 1\u001b[39m\n\u001b[32m----> \u001b[39m\u001b[32m1\u001b[39m valid_rows = \u001b[43mprobability_data\u001b[49m\u001b[43m.\u001b[49m\u001b[43msum\u001b[49m\u001b[43m(\u001b[49m\u001b[43maxis\u001b[49m\u001b[43m=\u001b[49m\u001b[32;43m1\u001b[39;49m\u001b[43m)\u001b[49m\u001b[43m \u001b[49m\u001b[43m>\u001b[49m\u001b[43m \u001b[49m\u001b[32;43m0\u001b[39;49m\n\u001b[32m      2\u001b[39m \u001b[38;5;28mprint\u001b[39m(valid_rows.shape)\n\u001b[32m      3\u001b[39m probability_data = probability_data[valid_rows]\n",
      "\u001b[31mTypeError\u001b[39m: '>' not supported between instances of 'str' and 'int'"
     ]
    }
   ],
   "source": [
    "valid_rows = probability_data.sum(axis=1) > 0\n",
    "print(valid_rows.shape)\n",
    "probability_data = probability_data[valid_rows]\n",
    "print(probability_data.shape)\n",
    "probability_data[:10] #no function like head so just slice the first 10 elements"
   ]
  },
  {
   "cell_type": "code",
   "execution_count": null,
   "id": "607e8b06-7537-4b46-af5a-5c2085977cab",
   "metadata": {},
   "outputs": [],
   "source": [
    "samples = np.array([np.random.choice(n_symbols, p=row) for row in probability_data])\n",
    "\n",
    "observations = samples.reshape(-1, 1)\n",
    "\n",
    "n_states = 2  \n",
    "model = hmm.MultinomialHMM(n_components=n_states, n_iter=10000, tol=0.01)\n",
    "\n",
    "model.fit(observations)\n",
    "\n",
    "hidden_states = model.predict(observations)\n",
    "\n",
    "print(\"Predicted Hidden States:\")\n",
    "print(hidden_states)\n",
    "\n",
    "print(\"\\nLearned Transition Matrix:\")\n",
    "print(model.transmat_)\n",
    "\n",
    "print(\"\\nLearned Emission Matrix:\")\n",
    "print(model.emissionprob_)"
   ]
  },
  {
   "cell_type": "code",
   "execution_count": null,
   "id": "732bd959-1320-4f56-af2e-93d3125f9294",
   "metadata": {},
   "outputs": [],
   "source": []
  },
  {
   "cell_type": "code",
   "execution_count": 54,
   "id": "3258ca3c-1c1a-4cd8-854d-12cd66089270",
   "metadata": {},
   "outputs": [
    {
     "name": "stdout",
     "output_type": "stream",
     "text": [
      "(4037, 1)\n"
     ]
    }
   ],
   "source": [
    "print(observations.shape)  # Should be (n_samples, 1)\n"
   ]
  },
  {
   "cell_type": "code",
   "execution_count": 20,
   "id": "9da61a37-6a67-47c9-b44b-f7e926b56a78",
   "metadata": {},
   "outputs": [
    {
     "name": "stdout",
     "output_type": "stream",
     "text": [
      "  kmer_1 kmer_2 kmer_3 kmer_4 kmer_5 kmer_6 kmer_7 kmer_8 kmer_9 kmer_10  ...  \\\n",
      "0     nn     nn     nn     nn     nn     nn     nn     nn     nn      nn  ...   \n",
      "1     nn     nn     nn     nn     nn     nn     nn     nn     nn      nn  ...   \n",
      "2     nn     nn     nn     nn     nn     nn     nn     nn     nn      nn  ...   \n",
      "3     nn     nn     nn     nn     nn     nn     nn     nn     nn      nn  ...   \n",
      "4     nn     nn     nn     nn     nn     nn     nn     nn     nn      nn  ...   \n",
      "\n",
      "  kmer_9990 kmer_9991 kmer_9992 kmer_9993 kmer_9994 kmer_9995 kmer_9996  \\\n",
      "0        nn        nn        nn        nn        nn        nn        nn   \n",
      "1        nn        nn        nn        nn        nn        nn        nn   \n",
      "2        nn        nn        nn        nn        nn        nn        nn   \n",
      "3        nn        nn        nn        nn        nn        nn        nn   \n",
      "4        nn        nn        nn        nn        nn        nn        nn   \n",
      "\n",
      "  kmer_9997 kmer_9998 kmer_9999  \n",
      "0        nn        nn        nn  \n",
      "1        nn        nn        nn  \n",
      "2        nn        nn        nn  \n",
      "3        nn        nn        nn  \n",
      "4        nn        nn        nn  \n",
      "\n",
      "[5 rows x 9999 columns]\n",
      "Index(['kmer_1', 'kmer_2', 'kmer_3', 'kmer_4', 'kmer_5', 'kmer_6', 'kmer_7',\n",
      "       'kmer_8', 'kmer_9', 'kmer_10',\n",
      "       ...\n",
      "       'kmer_9990', 'kmer_9991', 'kmer_9992', 'kmer_9993', 'kmer_9994',\n",
      "       'kmer_9995', 'kmer_9996', 'kmer_9997', 'kmer_9998', 'kmer_9999'],\n",
      "      dtype='object', length=9999)\n",
      "Example training sequence (numerical): [18 18 18 ... 18 18 18]\n",
      "Example sequence length: 9999\n",
      "Number of training sequences (windows): 4670\n"
     ]
    }
   ],
   "source": [
    "\n",
    "\n",
    "# Assuming your DataFrame is named 'data'\n",
    "print(data.head())\n",
    "print(data.columns)\n",
    "\n",
    "# 1. Get all unique dinucleotides from all columns and fit the LabelEncoder\n",
    "all_dinucleotides = data.values.flatten()\n",
    "unique_dinucleotides = [x for x in np.unique(all_dinucleotides) if pd.notna(x)] # Exclude NaNs\n",
    "label_encoder = LabelEncoder()\n",
    "label_encoder.fit(unique_dinucleotides)\n",
    "\n",
    "# 2. Convert each row (window) into a NumPy array of numerical indices\n",
    "train_sequences = []\n",
    "sequence_lengths = []\n",
    "\n",
    "for index, row in data.iterrows():\n",
    "    dinucleotide_sequence = row.values.astype(str) # Get row values as strings\n",
    "    valid_dinucleotides = [dino for dino in dinucleotide_sequence if pd.notna(dino)] # Exclude NaNs\n",
    "    numerical_sequence = label_encoder.transform(valid_dinucleotides)\n",
    "    train_sequences.append(numerical_sequence)\n",
    "    sequence_lengths.append(len(numerical_sequence))\n",
    "\n",
    "print(\"Example training sequence (numerical):\", train_sequences[0])\n",
    "print(\"Example sequence length:\", sequence_lengths[0])\n",
    "print(\"Number of training sequences (windows):\", len(train_sequences))"
   ]
  }
 ],
 "metadata": {
  "kernelspec": {
   "display_name": "Python 3 (ipykernel)",
   "language": "python",
   "name": "python3"
  },
  "language_info": {
   "codemirror_mode": {
    "name": "ipython",
    "version": 3
   },
   "file_extension": ".py",
   "mimetype": "text/x-python",
   "name": "python",
   "nbconvert_exporter": "python",
   "pygments_lexer": "ipython3",
   "version": "3.12.9"
  }
 },
 "nbformat": 4,
 "nbformat_minor": 5
}
